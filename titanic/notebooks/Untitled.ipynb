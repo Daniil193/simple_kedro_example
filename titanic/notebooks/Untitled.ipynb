{
 "cells": [
  {
   "cell_type": "code",
   "execution_count": null,
   "id": "6ee05498",
   "metadata": {},
   "outputs": [],
   "source": [
    "import logging\n",
    "from typing import Dict, Tuple\n",
    "import os\n",
    "import numpy as np\n",
    "import pandas as pd\n",
    "from sklearn.ensemble import RandomForestClassifier\n",
    "from sklearn.model_selection import train_test_split\n",
    "from sklearn import metrics\n",
    "\n",
    "%config Completer.use_jedi = False"
   ]
  },
  {
   "cell_type": "code",
   "execution_count": null,
   "id": "133b62ae",
   "metadata": {},
   "outputs": [],
   "source": [
    "def get_score(name_metric: str, y_true: pd.Series, y_pred: (np.ndarray, np.array)) -> float:\n",
    "    name_metrics = [i for i in dir(metrics) if callable(getattr(metrics, i)) and not i.startswith(\"__\")]\n",
    "    if name_metric not in name_metrics:\n",
    "        return np.nan\n",
    "    score = getattr(metrics, name_metric)(y_true, y_pred)\n",
    "    return round(score, 2)\n",
    "\n",
    "\n",
    "def split_data(df: pd.DataFrame, param: Dict) -> Tuple:\n",
    "    X = df[param[\"features\"]]\n",
    "    y = df[\"Survived\"]\n",
    "    X_train, X_test, y_train, y_test = train_test_split(X, \n",
    "                                                        y,\n",
    "                                                        test_size=param[\"test_size\"],\n",
    "                                                        random_state=param[\"random_state\"])\n",
    "    return X_train, X_test, y_train, y_test\n",
    "    \n",
    "    \n",
    "def train_model(X_train: pd.DataFrame, y_train: pd.Series, param: Dict) -> RandomForestClassifier:\n",
    "    rndm_forest = RandomForestClassifier(n_estimators=param[\"n_estimators\"])\n",
    "    rndm_forest.fit(X_train, y_train)\n",
    "    return rndm_forest"
   ]
  },
  {
   "cell_type": "code",
   "execution_count": null,
   "id": "d99c1dd9",
   "metadata": {},
   "outputs": [],
   "source": [
    "df = pd.read_csv(\"../data/02_intermediate/preprocessed_input_data.csv\")"
   ]
  },
  {
   "cell_type": "code",
   "execution_count": null,
   "id": "c1fc697a",
   "metadata": {},
   "outputs": [],
   "source": [
    "param = {\"test_size\": 0.2,\n",
    "         \"random_state\": 17,\n",
    "         \"n_estimators\":100, \n",
    "         \"metric\": \"accuracy_score\",\n",
    "         \"features\": [\"Pclass\", \"Sex\", \"SibSp\", \"Parch\", \"Embarked\"]}"
   ]
  },
  {
   "cell_type": "code",
   "execution_count": null,
   "id": "58254da0",
   "metadata": {},
   "outputs": [],
   "source": [
    "X_train, X_test, y_train, y_test = split_data(df, param)"
   ]
  },
  {
   "cell_type": "code",
   "execution_count": null,
   "id": "dcc57e93",
   "metadata": {},
   "outputs": [],
   "source": [
    "mdl = train_model(X_train, y_train, param)"
   ]
  },
  {
   "cell_type": "code",
   "execution_count": null,
   "id": "8e871df6",
   "metadata": {},
   "outputs": [],
   "source": [
    "y_pred = mdl.predict(X_test)"
   ]
  },
  {
   "cell_type": "code",
   "execution_count": null,
   "id": "9885012e",
   "metadata": {},
   "outputs": [],
   "source": [
    "get_score('accuracy_score', y_test, y_pred)"
   ]
  },
  {
   "cell_type": "code",
   "execution_count": null,
   "id": "c13f66c1",
   "metadata": {},
   "outputs": [],
   "source": [
    "\n"
   ]
  },
  {
   "cell_type": "code",
   "execution_count": null,
   "id": "916834f9",
   "metadata": {},
   "outputs": [],
   "source": []
  },
  {
   "cell_type": "code",
   "execution_count": null,
   "id": "df61e25f",
   "metadata": {},
   "outputs": [],
   "source": []
  },
  {
   "cell_type": "code",
   "execution_count": null,
   "id": "e6f6c170",
   "metadata": {},
   "outputs": [],
   "source": []
  },
  {
   "cell_type": "code",
   "execution_count": null,
   "id": "4fbe2f14",
   "metadata": {},
   "outputs": [],
   "source": []
  },
  {
   "cell_type": "code",
   "execution_count": null,
   "id": "f133682b",
   "metadata": {},
   "outputs": [],
   "source": []
  }
 ],
 "metadata": {
  "kernelspec": {
   "display_name": "Python 3",
   "language": "python",
   "name": "python3"
  },
  "language_info": {
   "codemirror_mode": {
    "name": "ipython",
    "version": 3
   },
   "file_extension": ".py",
   "mimetype": "text/x-python",
   "name": "python",
   "nbconvert_exporter": "python",
   "pygments_lexer": "ipython3",
   "version": "3.7.4"
  }
 },
 "nbformat": 4,
 "nbformat_minor": 5
}
